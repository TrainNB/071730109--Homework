{
 "cells": [
  {
   "cell_type": "markdown",
   "metadata": {},
   "source": [
    "## 作业2：ADAMS和RK4数值积分的实现\n",
    "仿照run_euler函数的实现，在modsim中实现Adams和四阶Runge-Kutta法，并使用炮弹发射仿真比较Euler、Adams和RK4三种数值积分的精度。实现run_adams和run_rk4函数。"
   ]
  },
  {
   "cell_type": "code",
   "execution_count": 1,
   "metadata": {},
   "outputs": [],
   "source": [
    "# Configure Jupyter so figures appear in the notebook\n",
    "%matplotlib inline\n",
    "\n",
    "# Configure Jupyter to display the assigned value after an assignment\n",
    "%config InteractiveShell.ast_node_interactivity='last_expr_or_assign'\n",
    "\n",
    "# import functions from the modsim.py module\n",
    "from modsim import *\n",
    "\n",
    "import numpy as np"
   ]
  },
  {
   "cell_type": "code",
   "execution_count": 2,
   "metadata": {},
   "outputs": [
    {
     "data": {
      "text/html": [
       "<div>\n",
       "<style scoped>\n",
       "    .dataframe tbody tr th:only-of-type {\n",
       "        vertical-align: middle;\n",
       "    }\n",
       "\n",
       "    .dataframe tbody tr th {\n",
       "        vertical-align: top;\n",
       "    }\n",
       "\n",
       "    .dataframe thead th {\n",
       "        text-align: right;\n",
       "    }\n",
       "</style>\n",
       "<table border=\"1\" class=\"dataframe\">\n",
       "  <thead>\n",
       "    <tr style=\"text-align: right;\">\n",
       "      <th></th>\n",
       "      <th>values</th>\n",
       "    </tr>\n",
       "  </thead>\n",
       "  <tbody>\n",
       "    <tr>\n",
       "      <th>y</th>\n",
       "      <td>0.0</td>\n",
       "    </tr>\n",
       "    <tr>\n",
       "      <th>v</th>\n",
       "      <td>500.0</td>\n",
       "    </tr>\n",
       "  </tbody>\n",
       "</table>\n",
       "</div>"
      ],
      "text/plain": [
       "y      0.0\n",
       "v    500.0\n",
       "dtype: float64"
      ]
     },
     "execution_count": 2,
     "metadata": {},
     "output_type": "execute_result"
    }
   ],
   "source": [
    "t = 0.0\n",
    "t_1 = 0.03 #为adams提供初值进行euler法时间\n",
    "t_end = 6.0\n",
    "g = 9.8   #重力加速度\n",
    "v0 =500.0\n",
    "x0 = 0.0\n",
    "y0 = 100.0\n",
    "dt = 0.01\n",
    "\n",
    "init_z = State(y=100.0, v=0.0)\n",
    "init_x = State(y=0.0, v=500.0)"
   ]
  },
  {
   "cell_type": "code",
   "execution_count": 3,
   "metadata": {},
   "outputs": [],
   "source": [
    "# 欧拉法"
   ]
  },
  {
   "cell_type": "code",
   "execution_count": 4,
   "metadata": {},
   "outputs": [],
   "source": [
    "def slope_func_z(state, t, system):\n",
    "    y, v = state\n",
    "    \n",
    "    dydt = -system.g*t\n",
    "    dvdt = -system.g\n",
    "    \n",
    "    return dydt, dvdt\n",
    "\n",
    "def slope_func_x(state, t, system):\n",
    "    y, v = state\n",
    "    \n",
    "    dydt = v\n",
    "    dvdt = 0.0 \n",
    "    \n",
    "    return dydt, dvdt"
   ]
  },
  {
   "cell_type": "code",
   "execution_count": 5,
   "metadata": {},
   "outputs": [
    {
     "data": {
      "text/html": [
       "<div>\n",
       "<style scoped>\n",
       "    .dataframe tbody tr th:only-of-type {\n",
       "        vertical-align: middle;\n",
       "    }\n",
       "\n",
       "    .dataframe tbody tr th {\n",
       "        vertical-align: top;\n",
       "    }\n",
       "\n",
       "    .dataframe thead th {\n",
       "        text-align: right;\n",
       "    }\n",
       "</style>\n",
       "<table border=\"1\" class=\"dataframe\">\n",
       "  <thead>\n",
       "    <tr style=\"text-align: right;\">\n",
       "      <th></th>\n",
       "      <th>values</th>\n",
       "    </tr>\n",
       "  </thead>\n",
       "  <tbody>\n",
       "    <tr>\n",
       "      <th>init</th>\n",
       "      <td>y      0.0\n",
       "v    500.0\n",
       "dtype: float64</td>\n",
       "    </tr>\n",
       "    <tr>\n",
       "      <th>t_end</th>\n",
       "      <td>6</td>\n",
       "    </tr>\n",
       "    <tr>\n",
       "      <th>dt</th>\n",
       "      <td>0.01</td>\n",
       "    </tr>\n",
       "  </tbody>\n",
       "</table>\n",
       "</div>"
      ],
      "text/plain": [
       "init     y      0.0\n",
       "v    500.0\n",
       "dtype: float64\n",
       "t_end                                       6\n",
       "dt                                       0.01\n",
       "dtype: object"
      ]
     },
     "execution_count": 5,
     "metadata": {},
     "output_type": "execute_result"
    }
   ],
   "source": [
    "system_z = System(init=init_z, g=g, t_end=t_end, dt=dt)\n",
    "system_x = System(init=init_x, t_end=t_end, dt=dt)"
   ]
  },
  {
   "cell_type": "code",
   "execution_count": 6,
   "metadata": {},
   "outputs": [],
   "source": [
    "def modified_run_euler(system, slope_func,**options):\n",
    "    '''从modsim.py中找到run_euler的源代码，然后进行了修改'''\n",
    "\n",
    "    # the default message if nothing changes\n",
    "    msg = \"The solver successfully reached the end of the integration interval.\"\n",
    "\n",
    "    # get parameters from system\n",
    "    init, t_0, t_end, dt = check_system(system, slope_func)\n",
    "\n",
    "    # make the TimeFrame\n",
    "    tss=[]\n",
    "    tss.append(t_0)\n",
    "    frame = TimeFrame(columns=init.index)\n",
    "    frame.row[t_0] = init\n",
    "    ts = linrange(t_0, t_end, dt) * get_units(t_end)\n",
    "    # run the solver\n",
    "    for t1 in ts: \n",
    "        y1 = frame.row[t1]\n",
    "        if y1.y>=0:   #判断是否到达地面\n",
    "            slopes = slope_func(y1, t1, system)\n",
    "            y2 = [y + slope * dt for y, slope in zip(y1, slopes)]\n",
    "            t2 = t1 + dt\n",
    "            tss.append(t2)\n",
    "            frame.row[t2] = y2    \n",
    "        else:\n",
    "            break\n",
    "    \n",
    "    details = ModSimSeries(dict(message=\"Success\"))\n",
    "    return frame, details,tss\n",
    "\n",
    "ts_x, ts_z = [], []\n",
    "    \n",
    "results_z, details_z, ts_z = modified_run_euler(system_z, slope_func_z)\n",
    "results_x, details_x, ts_x = modified_run_euler(system_x, slope_func_x)"
   ]
  },
  {
   "cell_type": "code",
   "execution_count": 7,
   "metadata": {},
   "outputs": [],
   "source": [
    "zs, xs = [], []\n",
    "for y in results_z.y:\n",
    "    zs.append(y)\n",
    "\n",
    "for y in results_x.y:\n",
    "    xs.append(y)"
   ]
  },
  {
   "cell_type": "code",
   "execution_count": 8,
   "metadata": {},
   "outputs": [
    {
     "name": "stdout",
     "output_type": "stream",
     "text": [
      "max error_x : 0.00000\n"
     ]
    },
    {
     "data": {
      "image/png": "[encoded data removed]",
      "text/plain": [
       "<Figure size 432x288 with 1 Axes>"
      ]
     },
     "metadata": {
      "needs_background": "light"
     },
     "output_type": "display_data"
    }
   ],
   "source": [
    "exact_x = [v0*t for t in ts_x]\n",
    "error_x = abs(np.array(exact_x) - np.array(xs))\n",
    "\n",
    "print(\"max error_x : {:.5f}\".format(max(error_x)))\n",
    "plot(ts_x, xs,'r', label='Euler_x')\n",
    "decorate(xlabel='Time(s)',\n",
    "         ylabel='Distance(m)')"
   ]
  },
  {
   "cell_type": "code",
   "execution_count": 9,
   "metadata": {},
   "outputs": [
    {
     "name": "stdout",
     "output_type": "stream",
     "text": [
      "max Euler_error_y : 0.22197\n"
     ]
    },
    {
     "data": {
      "image/png": "[encoded data removed]",
      "text/plain": [
       "<Figure size 432x288 with 1 Axes>"
      ]
     },
     "metadata": {
      "needs_background": "light"
     },
     "output_type": "display_data"
    }
   ],
   "source": [
    "exact_y = [y0-0.5*g*t*t for t in ts_z]\n",
    "Euler_error_y = abs(np.array(exact_y) - np.array(zs))\n",
    "\n",
    "print(\"max Euler_error_y : {:.5f}\".format(max(Euler_error_y)))\n",
    "plot(ts_z, zs,'r', label='Euler_y')\n",
    "decorate(xlabel='Time(s)',\n",
    "         ylabel='Height(m)')"
   ]
  },
  {
   "cell_type": "code",
   "execution_count": 10,
   "metadata": {},
   "outputs": [],
   "source": [
    "# 四阶Adams法"
   ]
  },
  {
   "cell_type": "code",
   "execution_count": 11,
   "metadata": {},
   "outputs": [
    {
     "data": {
      "text/html": [
       "<div>\n",
       "<style scoped>\n",
       "    .dataframe tbody tr th:only-of-type {\n",
       "        vertical-align: middle;\n",
       "    }\n",
       "\n",
       "    .dataframe tbody tr th {\n",
       "        vertical-align: top;\n",
       "    }\n",
       "\n",
       "    .dataframe thead th {\n",
       "        text-align: right;\n",
       "    }\n",
       "</style>\n",
       "<table border=\"1\" class=\"dataframe\">\n",
       "  <thead>\n",
       "    <tr style=\"text-align: right;\">\n",
       "      <th></th>\n",
       "      <th>values</th>\n",
       "    </tr>\n",
       "  </thead>\n",
       "  <tbody>\n",
       "    <tr>\n",
       "      <th>init</th>\n",
       "      <td>y      0.0\n",
       "v    500.0\n",
       "dtype: float64</td>\n",
       "    </tr>\n",
       "    <tr>\n",
       "      <th>t_0</th>\n",
       "      <td>0</td>\n",
       "    </tr>\n",
       "    <tr>\n",
       "      <th>t_end</th>\n",
       "      <td>0.03</td>\n",
       "    </tr>\n",
       "    <tr>\n",
       "      <th>dt</th>\n",
       "      <td>0.01</td>\n",
       "    </tr>\n",
       "  </tbody>\n",
       "</table>\n",
       "</div>"
      ],
      "text/plain": [
       "init     y      0.0\n",
       "v    500.0\n",
       "dtype: float64\n",
       "t_0                                         0\n",
       "t_end                                    0.03\n",
       "dt                                       0.01\n",
       "dtype: object"
      ]
     },
     "execution_count": 11,
     "metadata": {},
     "output_type": "execute_result"
    }
   ],
   "source": [
    "system_z = System(init=init_z, t_0=0, g=g, t_end=t_1, dt=dt)\n",
    "system_x = System(init=init_x, t_0=0, t_end=t_1, dt=dt)"
   ]
  },
  {
   "cell_type": "code",
   "execution_count": 12,
   "metadata": {},
   "outputs": [],
   "source": [
    "# 使用欧拉法为adams法提供4个初值\n",
    "results_z, details_z = run_euler(system_z, slope_func_z)\n",
    "results_x, details_x = run_euler(system_x, slope_func_x)"
   ]
  },
  {
   "cell_type": "code",
   "execution_count": 13,
   "metadata": {},
   "outputs": [],
   "source": [
    "ys, xs, ts_x, ts_y=[], [], [], []\n",
    "for y in results_z.y:\n",
    "    ys.append(y)\n",
    "\n",
    "for y in results_x.y:\n",
    "    xs.append(y)\n",
    "\n",
    "i = 1\n",
    "t_ = t\n",
    "while i<= 4:\n",
    "    ts_x.append(t_)\n",
    "    ts_y.append(t_)\n",
    "    t_ += dt\n",
    "    i += 1"
   ]
  },
  {
   "cell_type": "code",
   "execution_count": 14,
   "metadata": {},
   "outputs": [],
   "source": [
    "def f_x(x, t):\n",
    "    return v0\n",
    "\n",
    "def f_y(y, t):\n",
    "    return -g*t\n",
    "\n",
    "def result(y_0, x_0, y_1, x_1, y_2, x_2, y_3, x_3, h, f):\n",
    "    y_4 = y_3 + (-9.*f(y_0, x_0)+ 37.*f(y_1, x_1)- 59.*f(y_2, x_2) + 55.*f(y_3, x_3))* h / 24.\n",
    "    return y_4\n",
    "\n",
    "def run_adams(y_s, x_s, x_end,h,f):\n",
    "    i = 0\n",
    "    y = y_s[-1]\n",
    "    x = x_s[-1]\n",
    "    while x_s[-1] <= x_end:  \n",
    "        if y >= 0:               \n",
    "            y = result(y_s[i],x_s[i], y_s[i+1],x_s[i+1], y_s[i+2],x_s[i+2], y_s[i+3],x_s[i+3],h,f)\n",
    "            y_s.append(y)\n",
    "            i += 1  \n",
    "            x += h\n",
    "            x_s.append(x)\n",
    "        else:\n",
    "            break\n",
    "    return y_s,x_s"
   ]
  },
  {
   "cell_type": "code",
   "execution_count": 15,
   "metadata": {},
   "outputs": [],
   "source": [
    "ys_final, xs_final, ts_final=[], [], []"
   ]
  },
  {
   "cell_type": "code",
   "execution_count": 16,
   "metadata": {},
   "outputs": [
    {
     "name": "stdout",
     "output_type": "stream",
     "text": [
      "max error_x : 0.00000\n"
     ]
    },
    {
     "data": {
      "image/png": "[encoded data removed]",
      "text/plain": [
       "<Figure size 432x288 with 1 Axes>"
      ]
     },
     "metadata": {
      "needs_background": "light"
     },
     "output_type": "display_data"
    }
   ],
   "source": [
    "xs_final, ts_final= run_adams(xs,ts_x,t_end,dt,f_x)\n",
    "exact_x = [v0*t for t in ts_final]\n",
    "error_x = abs(np.array(exact_x) - np.array(xs_final))\n",
    "\n",
    "print(\"max error_x : {:.5f}\".format(max(error_x)))\n",
    "plot(ts_final, xs_final, label='Adams_x')\n",
    "decorate(xlabel='Time(s)',\n",
    "         ylabel='Distance(m)')"
   ]
  },
  {
   "cell_type": "code",
   "execution_count": 17,
   "metadata": {},
   "outputs": [
    {
     "name": "stdout",
     "output_type": "stream",
     "text": [
      "max Adams_error_y : 0.00147\n"
     ]
    },
    {
     "data": {
      "image/png": "[encoded data removed]",
      "text/plain": [
       "<Figure size 432x288 with 1 Axes>"
      ]
     },
     "metadata": {
      "needs_background": "light"
     },
     "output_type": "display_data"
    }
   ],
   "source": [
    "ys_final, ts_final= run_adams(ys,ts_y,t_end,dt,f_y)\n",
    "exact_y = [y0-0.5*g*t*t for t in ts_final]\n",
    "Adams_error_y = abs(np.array(exact_y) - np.array(ys_final))\n",
    "\n",
    "print(\"max Adams_error_y : {:.5f}\".format(max(Adams_error_y)))\n",
    "plot(ts_final, ys_final, label='Adams_y')\n",
    "decorate(xlabel='Time(s)',\n",
    "         ylabel='Height(m)')"
   ]
  },
  {
   "cell_type": "code",
   "execution_count": 18,
   "metadata": {},
   "outputs": [],
   "source": [
    "# 四阶Runge-Kutta法"
   ]
  },
  {
   "cell_type": "code",
   "execution_count": 19,
   "metadata": {},
   "outputs": [],
   "source": [
    "xs, ys, ts_x, ts_y = [], [], [], []"
   ]
  },
  {
   "cell_type": "code",
   "execution_count": 20,
   "metadata": {},
   "outputs": [],
   "source": [
    "def f_x(t, x):\n",
    "    return v0\n",
    "\n",
    "def f_y(t, y):\n",
    "    return -g*t\n",
    "\n",
    "def run_rk4(y, x, x_end, h, f):\n",
    "    \"\"\" y is the initial value for y\n",
    "        x is the initial value for x\n",
    "        h is the time step in x\n",
    "        f is derivative of function y(t)\n",
    "    \"\"\"\n",
    "    y_s, x_s = [], []\n",
    "    while x <= x_end:  \n",
    "        if y >= 0:               \n",
    "            k1 = f(x, y)\n",
    "            k2 = f(x+0.5 * h, y+0.5* h * k1)\n",
    "            k3 = f(x+0.5 * h, y+0.5* h * k2)\n",
    "            k4 = f(x+h, y+h * k3)\n",
    "            y = y + (k1+ 2.*k2+ 2.*k3+ k4)* h / 6.\n",
    "            x += h\n",
    "            y_s.append(y)\n",
    "            x_s.append(x)  \n",
    "           \n",
    "        else:\n",
    "            break\n",
    "    return y_s,x_s"
   ]
  },
  {
   "cell_type": "code",
   "execution_count": 21,
   "metadata": {},
   "outputs": [
    {
     "name": "stdout",
     "output_type": "stream",
     "text": [
      "max error_x : 0.00000\n"
     ]
    },
    {
     "data": {
      "image/png": "[encoded data removed]",
      "text/plain": [
       "<Figure size 432x288 with 1 Axes>"
      ]
     },
     "metadata": {
      "needs_background": "light"
     },
     "output_type": "display_data"
    }
   ],
   "source": [
    "xs,ts_x = run_rk4(x0, t, t_end, dt, f_x)\n",
    "exact_x = [v0*t for t in ts_x]\n",
    "error_x = abs(np.array(exact_x) - np.array(xs))\n",
    "\n",
    "print(\"max error_x : {:.5f}\".format(max(error_x)))\n",
    "plot(ts_x, xs,'g',label='runge_kutta_x')\n",
    "decorate(xlabel='Time(s)',\n",
    "         ylabel='Distance(m)')"
   ]
  },
  {
   "cell_type": "code",
   "execution_count": 22,
   "metadata": {},
   "outputs": [
    {
     "name": "stdout",
     "output_type": "stream",
     "text": [
      "max RK4_error_y : 0.00000\n"
     ]
    },
    {
     "data": {
      "image/png": "[encoded data removed]",
      "text/plain": [
       "<Figure size 432x288 with 1 Axes>"
      ]
     },
     "metadata": {
      "needs_background": "light"
     },
     "output_type": "display_data"
    }
   ],
   "source": [
    "ys,ts_y = run_rk4(y0, t, t_end, dt, f_y)\n",
    "exact_y = [y0-0.5*g*t*t for t in ts_y]\n",
    "RK4_error_y = abs(np.array(exact_y) - np.array(ys))\n",
    "\n",
    "print(\"max RK4_error_y : {:.5f}\".format(max(RK4_error_y)))\n",
    "plot(ts_y, ys,'g',label='runge_kutta_y')\n",
    "decorate(xlabel='Time(s)',\n",
    "         ylabel='Height(m)')"
   ]
  },
  {
   "cell_type": "code",
   "execution_count": 23,
   "metadata": {},
   "outputs": [
    {
     "name": "stdout",
     "output_type": "stream",
     "text": [
      "由上述过程可知 max RK4_error_y = 0.00000 < max Adams_error_y = 0.00147 < max Euler_error_y = 0.22197 \n"
     ]
    }
   ],
   "source": [
    "print(\"由上述过程可知 max RK4_error_y = 0.00000 < max Adams_error_y = 0.00147 < max Euler_error_y = 0.22197 \")"
   ]
  },
  {
   "cell_type": "code",
   "execution_count": 24,
   "metadata": {},
   "outputs": [
    {
     "name": "stdout",
     "output_type": "stream",
     "text": [
      "所以 四阶Runge Kutta法精度 > 四阶Adams算法精度 > Euler法精度 \n"
     ]
    }
   ],
   "source": [
    "print(\"所以 四阶Runge Kutta法精度 > 四阶Adams算法精度 > Euler法精度 \")"
   ]
  }
 ],
 "metadata": {
  "kernelspec": {
   "display_name": "Python 3",
   "language": "python",
   "name": "python3"
  },
  "language_info": {
   "codemirror_mode": {
    "name": "ipython",
    "version": 3
   },
   "file_extension": ".py",
   "mimetype": "text/x-python",
   "name": "python",
   "nbconvert_exporter": "python",
   "pygments_lexer": "ipython3",
   "version": "3.7.0"
  }
 },
 "nbformat": 4,
 "nbformat_minor": 4
}
