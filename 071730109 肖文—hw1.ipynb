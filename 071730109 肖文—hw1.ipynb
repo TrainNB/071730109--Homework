{
 "cells": [
  {
   "cell_type": "markdown",
   "metadata": {},
   "source": [
    "## 作业1：跳伞运动员仿真\n",
    "   一名高空跳伞运动员从飞机上跳下，能够确定海拔高度和运动员自由下落的速度吗？在上一个实例中，炮弹总是保持$500m/s$的水平初速度（直到落入海中）。实际情况下，空气的摩擦阻力将使炮弹减速。同样，作用在运动员身上的重力同样受到空气摩擦力的影响，并随着运动员速度的增加而变大。最终，这一阻力将导致向上的摩擦力与向下的重力平衡，使合外力为零。在这一点，运动员将不再加速并保持稳态速度。\n",
    "    根据基本空气动力学理论，运动员所受阻力由下式表示：\n",
    "$$drag={1\\over2}\\rho v^2SC_d$$\n",
    "式中，$\\rho$为空气密度，$v$为速度，$S$为表面积，$C_d$为阻力系数。\n",
    "    该公式的计算显然比较复杂。首先，空气密度$\\rho$随着海拔高度而变化；第二，总阻力随着速度的平方变化；第三，运动员的表面积随着其运动而变化；最后，阻力系数取决于运动员伞具采用材料的摩擦力系数。这四个变量都是非线性的，因此很难推导出这个公式的显式解。\n",
    "    为简化这个问题，假设$\\rho=1.225kg/m^3$，$S=1.0m^2$，$C_d=0.05$，因此仅有$v$为非线性项。使用Euler法模拟整个运动过程，而不是直接求解公式。\n",
    "    改变伞打开的时间，观察跳伞运动员的运动状态变化。"
   ]
  },
  {
   "cell_type": "code",
   "execution_count": 1,
   "metadata": {},
   "outputs": [],
   "source": [
    "# Configure Jupyter so figures appear in the notebook\n",
    "%matplotlib inline\n",
    "\n",
    "# Configure Jupyter to display the assigned value after an assignment\n",
    "%config InteractiveShell.ast_node_interactivity='last_expr_or_assign'\n",
    "\n",
    "# import functions from the modsim.py module\n",
    "from modsim import *    \n",
    "#使用星号（*）运算符可让Python导入modsim.py中的所有函数\n"
   ]
  },
  {
   "cell_type": "code",
   "execution_count": 2,
   "metadata": {},
   "outputs": [
    {
     "data": {
      "text/html": [
       "<div>\n",
       "<style scoped>\n",
       "    .dataframe tbody tr th:only-of-type {\n",
       "        vertical-align: middle;\n",
       "    }\n",
       "\n",
       "    .dataframe tbody tr th {\n",
       "        vertical-align: top;\n",
       "    }\n",
       "\n",
       "    .dataframe thead th {\n",
       "        text-align: right;\n",
       "    }\n",
       "</style>\n",
       "<table border=\"1\" class=\"dataframe\">\n",
       "  <thead>\n",
       "    <tr style=\"text-align: right;\">\n",
       "      <th></th>\n",
       "      <th>values</th>\n",
       "    </tr>\n",
       "  </thead>\n",
       "  <tbody>\n",
       "    <tr>\n",
       "      <th>y</th>\n",
       "      <td>3000.0</td>\n",
       "    </tr>\n",
       "    <tr>\n",
       "      <th>v</th>\n",
       "      <td>0.0</td>\n",
       "    </tr>\n",
       "  </tbody>\n",
       "</table>\n",
       "</div>"
      ],
      "text/plain": [
       "y    3000.0\n",
       "v       0.0\n",
       "dtype: float64"
      ]
     },
     "execution_count": 2,
     "metadata": {},
     "output_type": "execute_result"
    }
   ],
   "source": [
    "g = 9.8    #重力加速度\n",
    "m = 85     #运动员重量\n",
    "d = 1.225  #密度\n",
    "S = 1.0    #降落伞面积\n",
    "Cd = 0.05  #阻力系数\n",
    "t_open=15  #假设开伞时间点，可任意改变\n",
    "dt=0.01    #步长\n",
    "H=3000.0   #跳伞高度\n",
    "t_end=50\n",
    "\n",
    "init_y = State(y=3000.0 , v=0.0 )\n"
   ]
  },
  {
   "cell_type": "code",
   "execution_count": 3,
   "metadata": {},
   "outputs": [
    {
     "data": {
      "text/html": [
       "<div>\n",
       "<style scoped>\n",
       "    .dataframe tbody tr th:only-of-type {\n",
       "        vertical-align: middle;\n",
       "    }\n",
       "\n",
       "    .dataframe tbody tr th {\n",
       "        vertical-align: top;\n",
       "    }\n",
       "\n",
       "    .dataframe thead th {\n",
       "        text-align: right;\n",
       "    }\n",
       "</style>\n",
       "<table border=\"1\" class=\"dataframe\">\n",
       "  <thead>\n",
       "    <tr style=\"text-align: right;\">\n",
       "      <th></th>\n",
       "      <th>values</th>\n",
       "    </tr>\n",
       "  </thead>\n",
       "  <tbody>\n",
       "    <tr>\n",
       "      <th>init</th>\n",
       "      <td>y    3000.0\n",
       "v       0.0\n",
       "dtype: float64</td>\n",
       "    </tr>\n",
       "    <tr>\n",
       "      <th>g</th>\n",
       "      <td>9.8</td>\n",
       "    </tr>\n",
       "    <tr>\n",
       "      <th>t_0</th>\n",
       "      <td>0</td>\n",
       "    </tr>\n",
       "    <tr>\n",
       "      <th>t_end</th>\n",
       "      <td>15</td>\n",
       "    </tr>\n",
       "    <tr>\n",
       "      <th>dt</th>\n",
       "      <td>0.01</td>\n",
       "    </tr>\n",
       "  </tbody>\n",
       "</table>\n",
       "</div>"
      ],
      "text/plain": [
       "init     y    3000.0\n",
       "v       0.0\n",
       "dtype: float64\n",
       "g                                           9.8\n",
       "t_0                                           0\n",
       "t_end                                        15\n",
       "dt                                         0.01\n",
       "dtype: object"
      ]
     },
     "execution_count": 3,
     "metadata": {},
     "output_type": "execute_result"
    }
   ],
   "source": [
    "system_y = System(init=init_y, g=g, t_0=0,t_end=t_open, dt=dt)"
   ]
  },
  {
   "cell_type": "code",
   "execution_count": 4,
   "metadata": {},
   "outputs": [
    {
     "data": {
      "text/html": [
       "<div>\n",
       "<style scoped>\n",
       "    .dataframe tbody tr th:only-of-type {\n",
       "        vertical-align: middle;\n",
       "    }\n",
       "\n",
       "    .dataframe tbody tr th {\n",
       "        vertical-align: top;\n",
       "    }\n",
       "\n",
       "    .dataframe thead th {\n",
       "        text-align: right;\n",
       "    }\n",
       "</style>\n",
       "<table border=\"1\" class=\"dataframe\">\n",
       "  <thead>\n",
       "    <tr style=\"text-align: right;\">\n",
       "      <th></th>\n",
       "      <th>values</th>\n",
       "    </tr>\n",
       "  </thead>\n",
       "  <tbody>\n",
       "    <tr>\n",
       "      <th>init</th>\n",
       "      <td>1897.50</td>\n",
       "    </tr>\n",
       "    <tr>\n",
       "      <th>g</th>\n",
       "      <td>9.80</td>\n",
       "    </tr>\n",
       "    <tr>\n",
       "      <th>t_0</th>\n",
       "      <td>15.00</td>\n",
       "    </tr>\n",
       "    <tr>\n",
       "      <th>t_end</th>\n",
       "      <td>50.00</td>\n",
       "    </tr>\n",
       "    <tr>\n",
       "      <th>dt</th>\n",
       "      <td>0.01</td>\n",
       "    </tr>\n",
       "  </tbody>\n",
       "</table>\n",
       "</div>"
      ],
      "text/plain": [
       "init     1897.50\n",
       "g           9.80\n",
       "t_0        15.00\n",
       "t_end      50.00\n",
       "dt          0.01\n",
       "dtype: float64"
      ]
     },
     "execution_count": 4,
     "metadata": {},
     "output_type": "execute_result"
    }
   ],
   "source": [
    "system_open = System(init=3000.0-0.5*g*t_open*t_open, g=g, t_0=t_open, t_end=t_end, dt=dt)"
   ]
  },
  {
   "cell_type": "code",
   "execution_count": 5,
   "metadata": {},
   "outputs": [],
   "source": [
    "def slope_func_y(state, t, system): #开伞前的状态\n",
    "    y, v = state\n",
    "    \n",
    "    dydt = -system.g*t\n",
    "    dvdt = -system.g\n",
    "    \n",
    "    return dydt, dvdt\n",
    "\n",
    "def slope_func_open(state, t, system): #开伞后的状态\n",
    "    y, v = state\n",
    "    \n",
    "    Drag=0.5*d*v*v*S*Cd\n",
    "    dydt = v+(-system.g + Drag/m)*t\n",
    "    dvdt = -system.g + Drag/m\n",
    "    \n",
    "    return dydt, dvdt\n",
    "\n",
    "Vy, Ay = slope_func_y(system_y.init, 0, system_y)"
   ]
  },
  {
   "cell_type": "code",
   "execution_count": 6,
   "metadata": {},
   "outputs": [],
   "source": [
    "def modified_run_euler(system, slope_func, result_y=0, H_0=3000.0, t_part=15, **options): #修改过的欧拉法函数\n",
    "    '''从modsim.py中找到run_euler函数的源代码，然后进行了修改\n",
    "    通过result_y来将开伞前后的状态连接起来\n",
    "    由于高度大于0的限制仿真结束时可能最后时间点可能不等于t_end,用t_part来记录结束时间点'''\n",
    "    \n",
    "    \n",
    "    # the default message if nothing changes\n",
    "    msg = \"The solver successfully reached the end of the integration interval.\"\n",
    "\n",
    "    # get parameters from system\n",
    "    init, t_0, t_end, dt = check_system(system, slope_func)\n",
    "\n",
    "    if H_0==3000.0: #若初始高度为3000.0米\n",
    "        frame = TimeFrame(columns=init.index)\n",
    "        frame.row[t_0] = init\n",
    "        ts = linrange(t_0, t_end, dt) * get_units(t_end)\n",
    "        # run the solver\n",
    "        for t1 in ts: \n",
    "            y1 = frame.row[t1]\n",
    "            if y1.y>=0:   #判断是否到达地面\n",
    "                slopes = slope_func(y1, t1, system)\n",
    "                y2 = [y + slope * dt for y, slope in zip(y1, slopes)]\n",
    "                t2 = t1 + dt\n",
    "                frame.row[t2] = y2\n",
    "                t_part=t2\n",
    "            else:\n",
    "                break    #到达地面则停止仿真\n",
    "                \n",
    "    else:          #若初始高度不为3000.0米\n",
    "        frame=result_y\n",
    "        ts = linrange(t_part, t_end, dt) * get_units(t_end)\n",
    "         # run the solver\n",
    "        for t1 in ts: \n",
    "            y1 = frame.row[t1]\n",
    "            if y1.y>=0:   #判断是否到达地面\n",
    "                slopes = slope_func(y1, t1, system)\n",
    "                y2 = [y + slope * dt for y, slope in zip(y1, slopes)]\n",
    "                t2 = t1 + dt\n",
    "                frame.row[t2] = y2\n",
    "            else:\n",
    "                break    #到达地面则停止仿真\n",
    "                \n",
    "    \n",
    "    details = ModSimSeries(dict(message=\"Success\"))\n",
    "    return frame, details,t_part\n"
   ]
  },
  {
   "cell_type": "code",
   "execution_count": 7,
   "metadata": {},
   "outputs": [],
   "source": [
    "#开伞之前的仿真\n",
    "results_y_1, details_y_1,t_part_1 = modified_run_euler(system_y, slope_func_y)"
   ]
  },
  {
   "cell_type": "code",
   "execution_count": 8,
   "metadata": {},
   "outputs": [],
   "source": [
    "#开伞之后的仿真\n",
    "results_y_2, details_y_2,t_part_2 = modified_run_euler(system_open, slope_func_open, results_y_1, system_open.init,t_part_1)"
   ]
  },
  {
   "cell_type": "code",
   "execution_count": 9,
   "metadata": {},
   "outputs": [
    {
     "data": {
      "image/png": "[encoded data removed]",
      "text/plain": [
       "<Figure size 432x288 with 1 Axes>"
      ]
     },
     "metadata": {
      "needs_background": "light"
     },
     "output_type": "display_data"
    }
   ],
   "source": [
    "plot(results_y_2.y, label='Y')\n",
    "decorate(xlabel='Time(s)',\n",
    "         ylabel='Height(m)')"
   ]
  },
  {
   "cell_type": "code",
   "execution_count": 10,
   "metadata": {},
   "outputs": [
    {
     "data": {
      "image/png": "[encoded data removed]",
      "text/plain": [
       "<Figure size 432x288 with 1 Axes>"
      ]
     },
     "metadata": {
      "needs_background": "light"
     },
     "output_type": "display_data"
    }
   ],
   "source": [
    "plot(-results_y_2.v,'g', label='V')\n",
    "decorate(xlabel='Time(s)',\n",
    "         ylabel='Speed(m/s)')"
   ]
  }
 ],
 "metadata": {
  "kernelspec": {
   "display_name": "Python 3",
   "language": "python",
   "name": "python3"
  },
  "language_info": {
   "codemirror_mode": {
    "name": "ipython",
    "version": 3
   },
   "file_extension": ".py",
   "mimetype": "text/x-python",
   "name": "python",
   "nbconvert_exporter": "python",
   "pygments_lexer": "ipython3",
   "version": "3.7.0"
  }
 },
 "nbformat": 4,
 "nbformat_minor": 2
}
